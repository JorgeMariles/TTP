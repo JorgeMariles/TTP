{
 "cells": [
  {
   "cell_type": "code",
   "execution_count": 1,
   "metadata": {},
   "outputs": [],
   "source": [
    "import numpy as np\n",
    "from obj_func import obj_func\n",
    "from read_instance import read_instance\n",
    "import random\n",
    "import seaborn as sns\n",
    "from random import randint\n",
    "import sys "
   ]
  },
  {
   "cell_type": "code",
   "execution_count": 2,
   "metadata": {},
   "outputs": [],
   "source": [
    "#file=open(r\"E:\\monit\\Documents\\TTP\\Instancias\\a280-ttp\\a280_n279_uncorr_01.ttp\",\"r\")\n",
    "#file=open(r\"E:\\monit\\Documents\\TTP\\Instancias\\a280-ttp\\a280_n279_bounded-strongly-corr_01.ttp\",\"r\")\n",
    "file=open(r\"E:\\monit\\Documents\\TTP\\Instancias\\a280-ttp\\my_test.ttp\",\"r\")\n",
    "dic=read_instance(file)\n"
   ]
  },
  {
   "cell_type": "code",
   "execution_count": 3,
   "metadata": {},
   "outputs": [],
   "source": [
    "def create_knap_pop(dic,c):\n",
    "    pop_knap=np.zeros((c,dic[\"number of items\"]))\n",
    "    for i in range(pop_knap.shape[0]):\n",
    "        item_pick=[]\n",
    "        for x in range(dic[\"number of items\"]): \n",
    "            item_pick.append(random.randint(0, 1))\n",
    "        item_pick2=np.array(item_pick)\n",
    "        pop_knap[i]=item_pick2\n",
    "    return pop_knap"
   ]
  },
  {
   "cell_type": "code",
   "execution_count": 4,
   "metadata": {},
   "outputs": [],
   "source": [
    "def create_distance_matrix(dic):\n",
    "    chords=dic[\"coords citites\"]\n",
    "    matrix=np.zeros((len(chords),len(chords)))\n",
    "    ind1=0\n",
    "    for x in chords:\n",
    "        ind2=0\n",
    "        for f in chords:\n",
    "            point1=np.array((int(x[0]),int(x[1])))\n",
    "            point2=np.array((int(f[0]),int(f[1])))\n",
    "            matrix[ind1,ind2]=np.linalg.norm(point1-point2)\n",
    "            ind2=ind2+1\n",
    "        ind1=ind1+1\n",
    "    return matrix"
   ]
  },
  {
   "cell_type": "code",
   "execution_count": 5,
   "metadata": {},
   "outputs": [],
   "source": [
    "def create_tsp_pop(dic,x):\n",
    "    pop_tsp=np.zeros((x,dic[\"number cities\"]-1))\n",
    "    minimo=0\n",
    "    maximo=10\n",
    "    #print(minimo,maximo,pop_tsp.shape[1])\n",
    "    for i in range(pop_tsp.shape[0]):\n",
    "        #order_cities=list(range(2,dic[\"number cities\"]+1 ))\n",
    "        dist=(maximo-minimo) * np.random.random_sample((pop_tsp.shape[1] )) +minimo    \n",
    "        pop_tsp[i,:]=dist\n",
    "    return pop_tsp"
   ]
  },
  {
   "cell_type": "code",
   "execution_count": 6,
   "metadata": {},
   "outputs": [],
   "source": [
    "def cont_to_disc_tsp(dic,pop_tsp):\n",
    "    pop_tsp_change=pop_tsp.copy()\n",
    "    pop_tsp_disc=np.zeros((pop_tsp.shape))\n",
    "    number_cities=dic[\"number cities\"]-1\n",
    "    #print(pop_tsp_change.shape)\n",
    "    for l in range(pop_tsp.shape[0]):\n",
    "        #print(l)\n",
    "        for x in range(number_cities):\n",
    "            \n",
    "            minx=list(zip(*np.where(pop_tsp_change[l,:]==np.amin(pop_tsp_change[l,:]))))\n",
    "            #print(minx)\n",
    "            #print(pop_tsp_change[l,minx[0][0]])\n",
    "            pop_tsp_disc[l,minx[0][0]]=x+2\n",
    "            pop_tsp_change[l,minx[0][0]]=np.inf\n",
    "        #print(pop_tsp_disc[l])\n",
    "    return pop_tsp_disc\n"
   ]
  },
  {
   "cell_type": "code",
   "execution_count": 7,
   "metadata": {},
   "outputs": [],
   "source": [
    "def fit_loop(dic,pop_tsp,pop_knap):\n",
    "    fitness=np.zeros((pop_tsp.shape[0]))\n",
    "    for l in range(pop_tsp.shape[0]):\n",
    "        fitness[l]=obj_func(dic,pop_tsp[l,:],pop_knap[l,:])\n",
    "\n",
    "    return fitness"
   ]
  },
  {
   "cell_type": "code",
   "execution_count": 30,
   "metadata": {},
   "outputs": [],
   "source": [
    "def diff_evolution(fitness,pop_tsp,pop_knap,f,r,matrix,dic):\n",
    "    dim=np.shape(pop_tsp)[0]\n",
    "    minimo=np.amin(matrix[matrix>0])\n",
    "    maximo=np.amax(matrix[matrix>0])\n",
    "    new_population_tsp=np.zeros(np.shape(pop_tsp))\n",
    "    new_population_knap=np.zeros(np.shape(pop_knap))\n",
    "    for k in range(dim):  \n",
    "        selector=random.sample(range(dim), 3)\n",
    "        #diff evolution for tsp\n",
    "        mutated_tsp=pop_tsp[selector[2]].copy()  + (f*(pop_tsp[selector[0]].copy()-pop_tsp[selector[1]].copy()))\n",
    "        mutated_tsp=np.reshape(mutated_tsp,(1,mutated_tsp.shape[0]))\n",
    "        pre_pop_tsp=np.zeros((mutated_tsp.shape))\n",
    "        for z in range(pop_tsp.shape[1]):\n",
    "            if random.uniform(0,1)>r:\n",
    "                pre_pop_tsp[0,z]=mutated_tsp[0,z]\n",
    "            else:\n",
    "                pre_pop_tsp[0,z]=pop_tsp[selector[2]].copy()[z]\n",
    "        pre_pop_tsp_fit=(cont_to_disc_tsp(dic,pre_pop_tsp)).astype(np.int32)\n",
    "        #print(pre_pop_tsp_fit,cont_to_disc_tsp(dic,np.reshape(pop_tsp[k,:],(1,pop_tsp.shape[1])),matrix))\n",
    "\n",
    "        #diff evolution for knap, bin dif evolutio\n",
    "        pre_nap=pop_knap[selector[0],:].copy()\n",
    "        for l in range(pop_knap.shape[1]):\n",
    "            if pop_knap[selector[1],l]!=pop_knap[selector[2],l] and random.uniform(0,1)>f and random.uniform(0,1)>r:\n",
    "                pre_nap[l]=1-pre_nap[l]\n",
    "        fitness1=fitness[k]\n",
    "        fitness2=obj_func(dic,pre_pop_tsp_fit[0,:],pre_nap)            \n",
    "        if fitness2>fitness1:\n",
    "            new_population_tsp[k,:]=np.reshape(pre_pop_tsp,(pre_pop_tsp.shape[1]))\n",
    "            new_population_knap[k,:]=pre_nap\n",
    "            #print(fitness2)\n",
    "        else:\n",
    "            new_population_tsp[k,:]=pop_tsp[k,:]\n",
    "            new_population_knap[k,:]=pop_knap[k,:]\n",
    "            #print(fitness1)\n",
    "        #print(fitness1,fitness2)\n",
    "\n",
    "     \n",
    "    return new_population_tsp,new_population_knap"
   ]
  },
  {
   "cell_type": "code",
   "execution_count": 31,
   "metadata": {},
   "outputs": [
    {
     "name": "stdout",
     "output_type": "stream",
     "text": [
      "generation:  0  maximo:  30.251262658470836\n",
      "generation:  1  maximo:  45.0\n",
      "generation:  2  maximo:  45.0\n",
      "generation:  3  maximo:  45.0\n",
      "generation:  4  maximo:  45.0\n",
      "generation:  5  maximo:  45.0\n",
      "generation:  6  maximo:  45.0\n",
      "generation:  7  maximo:  45.0\n",
      "generation:  8  maximo:  45.0\n",
      "generation:  9  maximo:  45.0\n",
      "generation:  10  maximo:  45.0\n",
      "generation:  11  maximo:  45.0\n"
     ]
    },
    {
     "data": {
      "image/png": "[encoded data removed]",
      "text/plain": [
       "<Figure size 432x288 with 2 Axes>"
      ]
     },
     "metadata": {
      "needs_background": "light"
     },
     "output_type": "display_data"
    }
   ],
   "source": [
    "ps=10#pop length\n",
    "iterations=50\n",
    "cr=0.9\n",
    "f=0.8\n",
    "matrix=create_distance_matrix(dic)\n",
    "pop_tsp=create_tsp_pop(dic,ps)\n",
    "pop_knap=create_knap_pop(dic,ps)\n",
    "pop_tsp_for_fit=cont_to_disc_tsp(dic,pop_tsp) \n",
    "fitness=fit_loop(dic,pop_tsp_for_fit,pop_knap)\n",
    "z=True\n",
    "l=0\n",
    "lastfit=np.amax(fitness)\n",
    "count=0\n",
    "fitnesses=[]\n",
    "while z :\n",
    "#for l in range(iterations):\n",
    "    pop_tsp,pop_knap=diff_evolution(fitness,pop_tsp,pop_knap,f,cr,matrix,dic)\n",
    "    pop_tsp_for_fit=cont_to_disc_tsp(dic,pop_tsp)\n",
    "    fitness=fit_loop(dic,pop_tsp_for_fit,pop_knap)\n",
    "    print(\"generation: \",l, \" maximo: \", np.amax(fitness))  \n",
    "    l=l+1\n",
    "    \n",
    "    if lastfit>=np.amax(fitness):\n",
    "        count=count+1\n",
    "    else:\n",
    "        count=0\n",
    "    lastfit=np.amax(fitness)\n",
    "    if count==10:\n",
    "        z=False\n",
    "    fitnesses.append(fitness)\n",
    "p1 = sns.heatmap(np.reshape(fitness,(1,fitness.shape[0])))    "
   ]
  },
  {
   "cell_type": "code",
   "execution_count": 23,
   "metadata": {},
   "outputs": [
    {
     "name": "stdout",
     "output_type": "stream",
     "text": [
      "[-74.92460307  -7.14285714 -14.3154504  -20.         -77.78174593\n",
      " -22.24873734 -14.3154504  -24.14213562 -20.         -77.78174593]\n",
      "[-74.92460307  -7.14285714  -7.14285714  -7.14285714 -24.14213562\n",
      " -11.64213562 -14.3154504  -24.14213562 -20.         -20.        ]\n",
      "[  8.54169246  -7.14285714  -7.14285714  -7.14285714 -24.14213562\n",
      " -11.64213562  -7.5        -24.14213562 -20.         -20.        ]\n",
      "[  8.54169246  -7.14285714  -7.14285714  -7.14285714 -11.64213562\n",
      " -11.64213562  -7.5        -24.14213562 -20.          -7.5       ]\n",
      "[  8.54169246  -7.14285714  -7.14285714  -7.14285714 -11.64213562\n",
      " -11.64213562  -7.5        -20.           8.54169246  -7.5       ]\n",
      "[  8.54169246  -7.14285714  -7.14285714  15.71428571 -11.64213562\n",
      " -11.64213562  -7.5        -20.           8.54169246  15.71428571]\n",
      "[  8.54169246  -7.14285714  -7.14285714  15.71428571  15.71428571\n",
      "   8.54169246  15.71428571 -11.64213562   8.54169246  15.71428571]\n",
      "[15.71428571  8.54169246 15.71428571 15.71428571 15.71428571 15.71428571\n",
      " 15.71428571 15.71428571 15.71428571 15.71428571]\n",
      "[15.71428571 15.71428571 15.71428571 15.71428571 15.71428571 15.71428571\n",
      " 15.71428571 15.71428571 15.71428571 15.71428571]\n",
      "[15.71428571 15.71428571 15.71428571 15.71428571 15.71428571 15.71428571\n",
      " 15.71428571 15.71428571 15.71428571 15.71428571]\n",
      "[15.71428571 15.71428571 15.71428571 15.71428571 15.71428571 15.71428571\n",
      " 15.71428571 15.71428571 15.71428571 15.71428571]\n",
      "[15.71428571 15.71428571 15.71428571 15.71428571 15.71428571 15.71428571\n",
      " 15.71428571 15.71428571 15.71428571 15.71428571]\n",
      "[15.71428571 15.71428571 15.71428571 15.71428571 15.71428571 15.71428571\n",
      " 15.71428571 15.71428571 15.71428571 15.71428571]\n"
     ]
    }
   ],
   "source": [
    "for p in range(13):\n",
    "    print(fitnesses[p])"
   ]
  },
  {
   "cell_type": "code",
   "execution_count": null,
   "metadata": {},
   "outputs": [],
   "source": []
  }
 ],
 "metadata": {
  "kernelspec": {
   "display_name": "Python 3",
   "language": "python",
   "name": "python3"
  },
  "language_info": {
   "codemirror_mode": {
    "name": "ipython",
    "version": 3
   },
   "file_extension": ".py",
   "mimetype": "text/x-python",
   "name": "python",
   "nbconvert_exporter": "python",
   "pygments_lexer": "ipython3",
   "version": "3.8.5"
  }
 },
 "nbformat": 4,
 "nbformat_minor": 4
}
