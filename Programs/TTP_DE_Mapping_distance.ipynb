{
 "cells": [
  {
   "cell_type": "code",
   "execution_count": 1,
   "metadata": {},
   "outputs": [],
   "source": [
    "import numpy as np\n",
    "from obj_func import obj_func\n",
    "from read_instance import read_instance\n",
    "import random\n",
    "import seaborn as sns\n",
    "from random import randint\n",
    "import sys "
   ]
  },
  {
   "cell_type": "code",
   "execution_count": 476,
   "metadata": {},
   "outputs": [],
   "source": [
    "#file=open(r\"E:\\monit\\Documents\\TTP\\Instancias\\a280-ttp\\a280_n279_bounded-strongly-corr_01.ttp\",\"r\")\n",
    "file=open(r\"E:\\monit\\Documents\\TTP\\Instancias\\a280-ttp\\a280_n279_uncorr_01.ttp\",\"r\")\n",
    "#file=open(r\"E:\\monit\\Documents\\TTP\\Instancias\\a280-ttp\\my_test.ttp\",\"r\")\n",
    "dic=read_instance(file)\n"
   ]
  },
  {
   "cell_type": "code",
   "execution_count": 477,
   "metadata": {},
   "outputs": [],
   "source": [
    "def create_knap_pop(dic,c):\n",
    "    pop_knap=np.zeros((c,dic[\"number of items\"]))\n",
    "    for i in range(pop_knap.shape[0]):\n",
    "        item_pick=[]\n",
    "        for x in range(dic[\"number of items\"]): \n",
    "            item_pick.append(random.randint(0, 1))\n",
    "        item_pick2=np.array(item_pick)\n",
    "        pop_knap[i]=item_pick2\n",
    "    return pop_knap"
   ]
  },
  {
   "cell_type": "code",
   "execution_count": 478,
   "metadata": {},
   "outputs": [],
   "source": [
    "def create_distance_matrix(dic):\n",
    "    chords=dic[\"coords citites\"]\n",
    "    matrix=np.zeros((len(chords),len(chords)))\n",
    "    ind1=0\n",
    "    for x in chords:\n",
    "        ind2=0\n",
    "        for f in chords:\n",
    "            point1=np.array((int(x[0]),int(x[1])))\n",
    "            point2=np.array((int(f[0]),int(f[1])))\n",
    "            matrix[ind1,ind2]=np.linalg.norm(point1-point2)\n",
    "            ind2=ind2+1\n",
    "        ind1=ind1+1\n",
    "    return matrix"
   ]
  },
  {
   "cell_type": "code",
   "execution_count": 479,
   "metadata": {},
   "outputs": [],
   "source": [
    "def create_tsp_pop(dic,x,matrix):\n",
    "    pop_tsp=np.zeros((x,dic[\"number cities\"]-1))\n",
    "    minimo=np.amin(matrix[matrix>0])\n",
    "    maximo=np.amax(matrix[matrix>0])\n",
    "    #print(minimo,maximo,pop_tsp.shape[1])\n",
    "    for i in range(pop_tsp.shape[0]):\n",
    "        #order_cities=list(range(2,dic[\"number cities\"]+1 ))\n",
    "        dist=(maximo-minimo) * np.random.random_sample((pop_tsp.shape[1] )) +minimo    \n",
    "        pop_tsp[i,:]=dist\n",
    "    return pop_tsp"
   ]
  },
  {
   "cell_type": "code",
   "execution_count": 496,
   "metadata": {},
   "outputs": [],
   "source": [
    "def cont_to_disc_tsp(dic,pop_tsp,matrix):\n",
    "    pop_tsp_disc=np.zeros((pop_tsp.shape))\n",
    "    matrix[:,0]=0\n",
    " \n",
    "    for x in range(pop_tsp.shape[0]):\n",
    "        line_check=matrix[0,:].copy()\n",
    "        orden=[]\n",
    "        for i in pop_tsp[x,:]:\n",
    "            #print(i,\"i\")\n",
    "            diff=abs(line_check-i)\n",
    "            pick_list=list(zip(*np.where(diff==np.amin(diff))))\n",
    "            pick= int(random.choice(pick_list)[0])\n",
    "            #pick=int(pick_list[0][0])\n",
    "            orden.append(pick+1)\n",
    "            line_check=matrix[pick,:].copy()\n",
    "            for l in orden:\n",
    "                line_check[l-1]=0\n",
    "            #print(diff,\"diff\")\n",
    "            #print(pick,'city')\n",
    "            #print(line_check,\"newline'\")\n",
    "        #print(orden,\"orden_ciudades\",len(set(orden)),\"unicos\",len(orden),'largo del orden')\n",
    "        pop_tsp_disc[x,:]=orden\n",
    "    return pop_tsp_disc\n"
   ]
  },
  {
   "cell_type": "code",
   "execution_count": 481,
   "metadata": {},
   "outputs": [],
   "source": [
    "def fit_loop(dic,pop_tsp,pop_knap):\n",
    "    fitness=np.zeros((pop_tsp.shape[0]))\n",
    "    for l in range(pop_tsp.shape[0]):\n",
    "        fitness[l]=obj_func(dic,pop_tsp[l,:],pop_knap[l,:])\n",
    "    return fitness"
   ]
  },
  {
   "cell_type": "code",
   "execution_count": 503,
   "metadata": {},
   "outputs": [],
   "source": [
    "\n",
    "def diff_evolution(fitness,pop_tsp,pop_knap,f,r,matrix,dic):\n",
    "    dim=np.shape(pop_tsp)[0]\n",
    "    minimo=np.amin(matrix[matrix>0])\n",
    "    maximo=np.amax(matrix[matrix>0])\n",
    "    new_population_tsp=np.zeros(np.shape(pop_tsp))\n",
    "    new_population_knap=np.zeros(np.shape(pop_knap))\n",
    "    for k in range(dim): \n",
    "   \n",
    "        selector=random.sample(range(dim), 3)\n",
    "        #print(selector)\n",
    "        #diff evolution for tsp\n",
    "        #print(pop_tsp[selector[2]],pop_tsp[selector[0]],selector)\n",
    "        mutated_tsp=pop_tsp[selector[2]].copy()  + (f*(pop_tsp[selector[0]].copy()-pop_tsp[selector[1]].copy()))\n",
    "        mutated_tsp=np.reshape(np.clip(mutated_tsp,minimo,maximo),(1,mutated_tsp.shape[0]))\n",
    "        pre_pop_tsp=np.zeros((mutated_tsp.shape))\n",
    "        for z in range(pop_tsp.shape[1]):\n",
    "            if random.uniform(0,1)>r:\n",
    "                pre_pop_tsp[0,z]=mutated_tsp[0,z]\n",
    "            else:\n",
    "                pre_pop_tsp[0,z]=pop_tsp[selector[2]].copy()[z]\n",
    "        pre_pop_tsp_fit=(cont_to_disc_tsp(dic,pre_pop_tsp,matrix)).astype(np.int32)\n",
    "        #print(pre_pop_tsp_fit,cont_to_disc_tsp(dic,np.reshape(pop_tsp[k,:],(1,pop_tsp.shape[1])),matrix))\n",
    "        \n",
    "        #diff evolution for knap, bin dif evolutio\n",
    "        pre_nap=pop_knap[selector[2],:].copy()\n",
    "        #print(pop_knap[selector[0],:],\"before\")\n",
    "        #print(pop_knap[selector[1],:],pop_knap[selector[2],:],\"bins\")\n",
    "        for l in range(pop_knap.shape[1]):\n",
    "            if pop_knap[selector[0],l]!=pop_knap[selector[1],l] and random.uniform(0,1)>f and random.uniform(0,1)>r:\n",
    "                pre_nap[l]=1-pre_nap[l]\n",
    "        #print(pre_nap,'after')\n",
    "        fitness1=fitness[k]\n",
    "        fitness2=obj_func(dic,pre_pop_tsp_fit[0,:],pre_nap)            \n",
    "        if fitness2>fitness1:\n",
    "            new_population_tsp[k,:]=np.reshape(pre_pop_tsp,(pre_pop_tsp.shape[1]))\n",
    "            new_population_knap[k,:]=pre_nap\n",
    "        else:\n",
    "            new_population_tsp[k,:]=pop_tsp[k,:]\n",
    "            new_population_knap[k,:]=pop_knap[k,:]\n",
    "        #print(fitness1,fitness2)\n",
    "    \n",
    "     \n",
    "    return new_population_tsp,new_population_knap\n",
    "    \n",
    "    "
   ]
  },
  {
   "cell_type": "code",
   "execution_count": 508,
   "metadata": {},
   "outputs": [
    {
     "name": "stdout",
     "output_type": "stream",
     "text": [
      "generation:  0  maximo:  -1628379.9718193854\n",
      "generation:  1  maximo:  -1543155.8096638168\n"
     ]
    },
    {
     "ename": "KeyboardInterrupt",
     "evalue": "",
     "output_type": "error",
     "traceback": [
      "\u001b[1;31m---------------------------------------------------------------------------\u001b[0m",
      "\u001b[1;31mKeyboardInterrupt\u001b[0m                         Traceback (most recent call last)",
      "\u001b[1;32m<ipython-input-508-ccebb24f9d89>\u001b[0m in \u001b[0;36m<module>\u001b[1;34m\u001b[0m\n\u001b[0;32m     15\u001b[0m \u001b[1;31m#for l in range(iterations):\u001b[0m\u001b[1;33m\u001b[0m\u001b[1;33m\u001b[0m\u001b[1;33m\u001b[0m\u001b[0m\n\u001b[0;32m     16\u001b[0m     \u001b[0mpop_tsp\u001b[0m\u001b[1;33m,\u001b[0m\u001b[0mpop_knap\u001b[0m\u001b[1;33m=\u001b[0m\u001b[0mdiff_evolution\u001b[0m\u001b[1;33m(\u001b[0m\u001b[0mfitness\u001b[0m\u001b[1;33m,\u001b[0m\u001b[0mpop_tsp\u001b[0m\u001b[1;33m,\u001b[0m\u001b[0mpop_knap\u001b[0m\u001b[1;33m,\u001b[0m\u001b[0mf\u001b[0m\u001b[1;33m,\u001b[0m\u001b[0mcr\u001b[0m\u001b[1;33m,\u001b[0m\u001b[0mmatrix\u001b[0m\u001b[1;33m,\u001b[0m\u001b[0mdic\u001b[0m\u001b[1;33m)\u001b[0m\u001b[1;33m\u001b[0m\u001b[1;33m\u001b[0m\u001b[0m\n\u001b[1;32m---> 17\u001b[1;33m     \u001b[0mpop_tsp_for_fit\u001b[0m\u001b[1;33m=\u001b[0m\u001b[0mcont_to_disc_tsp\u001b[0m\u001b[1;33m(\u001b[0m\u001b[0mdic\u001b[0m\u001b[1;33m,\u001b[0m\u001b[0mpop_tsp\u001b[0m\u001b[1;33m,\u001b[0m\u001b[0mmatrix\u001b[0m\u001b[1;33m)\u001b[0m\u001b[1;33m\u001b[0m\u001b[1;33m\u001b[0m\u001b[0m\n\u001b[0m\u001b[0;32m     18\u001b[0m     \u001b[0mfitness\u001b[0m\u001b[1;33m=\u001b[0m\u001b[0mfit_loop\u001b[0m\u001b[1;33m(\u001b[0m\u001b[0mdic\u001b[0m\u001b[1;33m,\u001b[0m\u001b[0mpop_tsp_for_fit\u001b[0m\u001b[1;33m,\u001b[0m\u001b[0mpop_knap\u001b[0m\u001b[1;33m)\u001b[0m\u001b[1;33m\u001b[0m\u001b[1;33m\u001b[0m\u001b[0m\n\u001b[0;32m     19\u001b[0m     \u001b[0mprint\u001b[0m\u001b[1;33m(\u001b[0m\u001b[1;34m\"generation: \"\u001b[0m\u001b[1;33m,\u001b[0m\u001b[0ml\u001b[0m\u001b[1;33m,\u001b[0m \u001b[1;34m\" maximo: \"\u001b[0m\u001b[1;33m,\u001b[0m \u001b[0mnp\u001b[0m\u001b[1;33m.\u001b[0m\u001b[0mamax\u001b[0m\u001b[1;33m(\u001b[0m\u001b[0mfitness\u001b[0m\u001b[1;33m)\u001b[0m\u001b[1;33m)\u001b[0m\u001b[1;33m\u001b[0m\u001b[1;33m\u001b[0m\u001b[0m\n",
      "\u001b[1;32m<ipython-input-496-8226d4c5da5b>\u001b[0m in \u001b[0;36mcont_to_disc_tsp\u001b[1;34m(dic, pop_tsp, matrix)\u001b[0m\n\u001b[0;32m      1\u001b[0m \u001b[1;32mdef\u001b[0m \u001b[0mcont_to_disc_tsp\u001b[0m\u001b[1;33m(\u001b[0m\u001b[0mdic\u001b[0m\u001b[1;33m,\u001b[0m\u001b[0mpop_tsp\u001b[0m\u001b[1;33m,\u001b[0m\u001b[0mmatrix\u001b[0m\u001b[1;33m)\u001b[0m\u001b[1;33m:\u001b[0m\u001b[1;33m\u001b[0m\u001b[1;33m\u001b[0m\u001b[0m\n\u001b[1;32m----> 2\u001b[1;33m     \u001b[0mpop_tsp_disc\u001b[0m\u001b[1;33m=\u001b[0m\u001b[0mnp\u001b[0m\u001b[1;33m.\u001b[0m\u001b[0mzeros\u001b[0m\u001b[1;33m(\u001b[0m\u001b[1;33m(\u001b[0m\u001b[0mpop_tsp\u001b[0m\u001b[1;33m.\u001b[0m\u001b[0mshape\u001b[0m\u001b[1;33m)\u001b[0m\u001b[1;33m)\u001b[0m\u001b[1;33m\u001b[0m\u001b[1;33m\u001b[0m\u001b[0m\n\u001b[0m\u001b[0;32m      3\u001b[0m     \u001b[0mmatrix\u001b[0m\u001b[1;33m[\u001b[0m\u001b[1;33m:\u001b[0m\u001b[1;33m,\u001b[0m\u001b[1;36m0\u001b[0m\u001b[1;33m]\u001b[0m\u001b[1;33m=\u001b[0m\u001b[1;36m0\u001b[0m\u001b[1;33m\u001b[0m\u001b[1;33m\u001b[0m\u001b[0m\n\u001b[0;32m      4\u001b[0m \u001b[1;33m\u001b[0m\u001b[0m\n\u001b[0;32m      5\u001b[0m     \u001b[1;32mfor\u001b[0m \u001b[0mx\u001b[0m \u001b[1;32min\u001b[0m \u001b[0mrange\u001b[0m\u001b[1;33m(\u001b[0m\u001b[0mpop_tsp\u001b[0m\u001b[1;33m.\u001b[0m\u001b[0mshape\u001b[0m\u001b[1;33m[\u001b[0m\u001b[1;36m0\u001b[0m\u001b[1;33m]\u001b[0m\u001b[1;33m)\u001b[0m\u001b[1;33m:\u001b[0m\u001b[1;33m\u001b[0m\u001b[1;33m\u001b[0m\u001b[0m\n",
      "\u001b[1;31mKeyboardInterrupt\u001b[0m: "
     ]
    }
   ],
   "source": [
    "ps=50#pop length\n",
    "iterations=400\n",
    "cr=0.7\n",
    "f=0.5\n",
    "matrix=create_distance_matrix(dic)\n",
    "pop_tsp=create_tsp_pop(dic,ps,matrix)\n",
    "pop_knap=create_knap_pop(dic,ps)\n",
    "pop_tsp_for_fit=cont_to_disc_tsp(dic,pop_tsp,matrix)\n",
    "fitness=fit_loop(dic,pop_tsp_for_fit,pop_knap)\n",
    "z=True\n",
    "l=0\n",
    "lastfit=np.amax(fitness)\n",
    "count=0\n",
    "while z :\n",
    "#for l in range(iterations):\n",
    "    pop_tsp,pop_knap=diff_evolution(fitness,pop_tsp,pop_knap,f,cr,matrix,dic)\n",
    "    pop_tsp_for_fit=cont_to_disc_tsp(dic,pop_tsp,matrix)\n",
    "    fitness=fit_loop(dic,pop_tsp_for_fit,pop_knap)\n",
    "    print(\"generation: \",l, \" maximo: \", np.amax(fitness))  \n",
    "    l=l+1\n",
    "    \n",
    "    if lastfit>=np.amax(fitness):\n",
    "        count=count+1\n",
    "    else:\n",
    "        count=0\n",
    "        lastfit=np.amax(fitness)\n",
    "    if count==100:\n",
    "        z=False\n",
    "    \n",
    "p1 = sns.heatmap(np.reshape(fitness,(1,fitness.shape[0])))    "
   ]
  },
  {
   "cell_type": "code",
   "execution_count": null,
   "metadata": {},
   "outputs": [],
   "source": []
  }
 ],
 "metadata": {
  "kernelspec": {
   "display_name": "Python 3",
   "language": "python",
   "name": "python3"
  },
  "language_info": {
   "codemirror_mode": {
    "name": "ipython",
    "version": 3
   },
   "file_extension": ".py",
   "mimetype": "text/x-python",
   "name": "python",
   "nbconvert_exporter": "python",
   "pygments_lexer": "ipython3",
   "version": "3.8.5"
  }
 },
 "nbformat": 4,
 "nbformat_minor": 4
}
